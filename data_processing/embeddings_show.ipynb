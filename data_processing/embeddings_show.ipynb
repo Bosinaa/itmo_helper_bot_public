{
 "cells": [
  {
   "cell_type": "code",
   "execution_count": 1,
   "id": "b92f21c1-1b93-49b7-9448-5fb509b5bff5",
   "metadata": {},
   "outputs": [],
   "source": [
    "import os\n",
    "import re\n",
    "import json\n",
    "import torch\n",
    "from uuid import uuid4\n",
    "from tqdm import tqdm\n",
    "from sentence_transformers import SentenceTransformer\n",
    "from qdrant_client import QdrantClient\n",
    "from qdrant_client.http import models as qmodels\n",
    "from qdrant_client.models import PointStruct, VectorParams, Distance\n",
    "from transformers import AutoTokenizer, AutoModel"
   ]
  },
  {
   "cell_type": "code",
   "execution_count": 2,
   "id": "6330c9ff",
   "metadata": {},
   "outputs": [],
   "source": [
    "MODEL_NAME = \"intfloat/multilingual-e5-large\"\n",
    "COLLECTION_NAME = os.getenv(\"COLLECTION_NAME\")\n",
    "QDRANT_URL = os.getenv(\"QDRANT_URL\")\n",
    "QDRANT_API_KEY = os.getenv(\"QDRANT_API_KEY\")\n",
    "client = QdrantClient(url=QDRANT_URL, api_key=QDRANT_API_KEY)"
   ]
  },
  {
   "cell_type": "code",
   "execution_count": 3,
   "id": "e2195741-aeca-4e24-ad01-a884b14d7bec",
   "metadata": {},
   "outputs": [],
   "source": [
    "tokenizer = AutoTokenizer.from_pretrained(MODEL_NAME)\n",
    "model = AutoModel.from_pretrained(MODEL_NAME).eval()"
   ]
  },
  {
   "cell_type": "code",
   "execution_count": 4,
   "id": "4b33f91e-4a89-4f2d-a671-401834bd8035",
   "metadata": {},
   "outputs": [],
   "source": [
    "# Функция для создания эмбеддингов\n",
    "def embed_chunk(text):\n",
    "    return model.encode(f\"passage: {text}\", normalize_embeddings=True)"
   ]
  },
  {
   "cell_type": "code",
   "execution_count": 5,
   "id": "ff304b14-ed93-49a1-99cc-3563d0723e31",
   "metadata": {},
   "outputs": [],
   "source": [
    "device = torch.device(\"cuda\" if torch.cuda.is_available() else \"cpu\")\n",
    "model = model.to(device)"
   ]
  },
  {
   "cell_type": "code",
   "execution_count": 7,
   "id": "f5dabfa5-5c5f-4fe0-8b55-ca61415bdc59",
   "metadata": {},
   "outputs": [],
   "source": [
    "# Разделение на чанки\n",
    "def chunk_text(text, max_sentences=3):\n",
    "    text = text.replace(\"\\t\", \" \")\n",
    "    text = re.sub(r'\\s+', ' ', text).strip()\n",
    "    sentences = re.split(r'(?<=[.!?])\\s+', text.strip())\n",
    "    chunks = []\n",
    "    for i in range(0, len(sentences), max_sentences):\n",
    "        chunk = \" \".join(sentences[i:i+max_sentences])\n",
    "        if len(chunk) > 0:\n",
    "            chunks.append(chunk)\n",
    "    return chunks"
   ]
  },
  {
   "cell_type": "code",
   "execution_count": 8,
   "id": "641e1a34-665e-47ee-a09b-633099862ed9",
   "metadata": {},
   "outputs": [],
   "source": [
    "# Рекурсивных обход словарей и списков\n",
    "def extract_chunks(obj, program_name, path=\"\"):\n",
    "    chunks = []\n",
    "    if isinstance(obj, str):\n",
    "        if re.match(r'^https?://', obj):\n",
    "            return []\n",
    "        for chunk in chunk_text(obj):\n",
    "            full_text = f\"{path}: {chunk}\" if path else chunk\n",
    "            chunks.append({\n",
    "                \"раздел\": path,\n",
    "                \"текст\": full_text,\n",
    "                \"program\": program_name})\n",
    "    elif isinstance(obj, list):\n",
    "        for i, item in enumerate(obj):\n",
    "            chunks += extract_chunks(item, program_name, f\"{path}[{i}]\")\n",
    "    elif isinstance(obj, dict):\n",
    "        for key, value in obj.items():\n",
    "            new_path = f\"{path}.{key}\" if path else key\n",
    "            chunks += extract_chunks(value, program_name, new_path)\n",
    "    return chunks\n",
    "    \n",
    "# Обход всех образотательных программ\n",
    "def load_all_program_chunks(folder_path=\"itmo_data\"):\n",
    "    all_chunks = []\n",
    "    for filename in os.listdir(folder_path):\n",
    "        if filename.endswith(\".json\"):\n",
    "            filepath = os.path.join(folder_path, filename)\n",
    "            try:\n",
    "                with open(filepath, \"r\", encoding=\"utf-8\") as f:\n",
    "                    data = json.load(f)\n",
    "                if isinstance(data, list):\n",
    "                    for item in data:\n",
    "                        program_name = (\n",
    "                            item.get('program', {}).get('Название программы', 'unknown_program')\n",
    "                            if isinstance(item, dict) else 'unknown_program')\n",
    "                        chunks = extract_chunks(item, program_name)\n",
    "                        all_chunks.extend(chunks)\n",
    "                elif isinstance(data, dict):\n",
    "                    program_name = data.get('program', {}).get('Название программы', 'unknown_program')\n",
    "                    chunks = extract_chunks(data, program_name)\n",
    "                    all_chunks.extend(chunks)\n",
    "                else:\n",
    "                    print(f\"❗️Неожиданный тип данных в файле: {filename}\")\n",
    "            except Exception as e:\n",
    "                print(f\"❌ Ошибка при обработке {filename}: {e}\")\n",
    "    return all_chunks"
   ]
  },
  {
   "cell_type": "code",
   "execution_count": 9,
   "id": "6cb5a7f4-d837-4b9c-81e2-6f28d3bd3daa",
   "metadata": {},
   "outputs": [
    {
     "name": "stdout",
     "output_type": "stream",
     "text": [
      "Всего чанков: 3811\n"
     ]
    }
   ],
   "source": [
    "all_chunks = load_all_program_chunks(\"itmo_data\")\n",
    "print(f\"Всего чанков: {len(all_chunks)}\")"
   ]
  },
  {
   "cell_type": "code",
   "execution_count": 10,
   "id": "5e33e6de-de50-46f8-812a-e4f11d5ff79d",
   "metadata": {},
   "outputs": [],
   "source": [
    "for chunk in all_chunks:\n",
    "    chunk[\"embedding\"] = embed_chunk(chunk[\"текст\"]).tolist()"
   ]
  },
  {
   "cell_type": "code",
   "execution_count": 11,
   "id": "1fd94aac-40ee-4b2d-b2bb-3f47db21d470",
   "metadata": {},
   "outputs": [
    {
     "name": "stdout",
     "output_type": "stream",
     "text": [
      "Загружен батч 1 (200 точек)\n",
      "Загружен батч 2 (200 точек)\n",
      "Загружен батч 3 (200 точек)\n",
      "Загружен батч 4 (200 точек)\n",
      "Загружен батч 5 (200 точек)\n",
      "Загружен батч 6 (200 точек)\n",
      "Загружен батч 7 (200 точек)\n",
      "Загружен батч 8 (200 точек)\n",
      "Загружен батч 9 (200 точек)\n",
      "Загружен батч 10 (200 точек)\n",
      "Загружен батч 11 (200 точек)\n",
      "Загружен батч 12 (200 точек)\n",
      "Загружен батч 13 (200 точек)\n",
      "Загружен батч 14 (200 точек)\n",
      "Загружен батч 15 (200 точек)\n",
      "Загружен батч 16 (200 точек)\n",
      "Загружен батч 17 (200 точек)\n",
      "Загружен батч 18 (200 точек)\n",
      "Загружен батч 19 (200 точек)\n",
      "Загружен батч 20 (11 точек)\n"
     ]
    }
   ],
   "source": [
    "# Подготовка всех PointStruct\n",
    "points = [\n",
    "    PointStruct(\n",
    "        id=uuid.uuid4().hex,\n",
    "        vector=chunk[\"embedding\"],\n",
    "        payload={\n",
    "            \"program\": chunk[\"program\"].lower(),  # название программы вынесено в качестве тега фильтрации\n",
    "            \"раздел\": chunk[\"раздел\"],\n",
    "            \"текст\": chunk[\"текст\"]\n",
    "        }\n",
    "    )\n",
    "    for chunk in all_chunks\n",
    "]\n",
    "\n",
    "# Функция для разбиения на батчи\n",
    "def batch(iterable, batch_size):\n",
    "    for i in range(0, len(iterable), batch_size):\n",
    "        yield iterable[i:i + batch_size]\n",
    "\n",
    "# Загрузка по 200 штук\n",
    "for i, batch_points in enumerate(batch(points, 200), 1):\n",
    "    client.upsert(collection_name=COLLECTION_NAME, points=batch_points)\n",
    "    print(f\"Загружен батч {i} ({len(batch_points)} точек)\")"
   ]
  },
  {
   "cell_type": "code",
   "execution_count": 12,
   "id": "0d1fc454-515b-431f-9e47-d4156b0dee06",
   "metadata": {},
   "outputs": [
    {
     "name": "stdout",
     "output_type": "stream",
     "text": [
      "Количество точек: 3811\n"
     ]
    }
   ],
   "source": [
    "# Получить информацию о коллекции, включая количество точек\n",
    "collection_info = client.get_collection(collection_name=COLLECTION_NAME)\n",
    "print(\"Количество точек:\", collection_info.points_count)"
   ]
  },
  {
   "cell_type": "code",
   "execution_count": null,
   "id": "60416441-c5a4-4165-86a1-c2012d46c371",
   "metadata": {},
   "outputs": [],
   "source": []
  }
 ],
 "metadata": {
  "kernelspec": {
   "display_name": "Python 3 (ipykernel)",
   "language": "python",
   "name": "python3"
  },
  "language_info": {
   "codemirror_mode": {
    "name": "ipython",
    "version": 3
   },
   "file_extension": ".py",
   "mimetype": "text/x-python",
   "name": "python",
   "nbconvert_exporter": "python",
   "pygments_lexer": "ipython3",
   "version": "3.10.16"
  }
 },
 "nbformat": 4,
 "nbformat_minor": 5
}
